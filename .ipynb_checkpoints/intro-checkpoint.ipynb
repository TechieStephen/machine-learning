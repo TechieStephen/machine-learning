{
 "cells": [
  {
   "cell_type": "code",
   "execution_count": 35,
   "id": "4af4d7e5",
   "metadata": {},
   "outputs": [],
   "source": [
    "import numpy\n",
    "import matplotlib.pyplot as plt\n",
    "\n",
    "speed = [99,86,87,88,111,86,103,87,94,78,77,85,86]\n",
    "x = numpy.mean(speed)\n",
    "\n",
    "m = numpy.median(speed)\n",
    "m\n",
    "\n",
    "random_nums = numpy.random.uniform(5.0, 1.0, 1000000)"
   ]
  },
  {
   "cell_type": "code",
   "execution_count": null,
   "id": "65d43c03",
   "metadata": {
    "scrolled": true
   },
   "outputs": [],
   "source": [
    "# matplotlib\n",
    "plt.bar(speed, 100)"
   ]
  }
 ],
 "metadata": {
  "kernelspec": {
   "display_name": "Python 3 (ipykernel)",
   "language": "python",
   "name": "python3"
  },
  "language_info": {
   "codemirror_mode": {
    "name": "ipython",
    "version": 3
   },
   "file_extension": ".py",
   "mimetype": "text/x-python",
   "name": "python",
   "nbconvert_exporter": "python",
   "pygments_lexer": "ipython3",
   "version": "3.10.4"
  }
 },
 "nbformat": 4,
 "nbformat_minor": 5
}
